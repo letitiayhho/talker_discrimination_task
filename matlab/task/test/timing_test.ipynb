{
 "cells": [
  {
   "cell_type": "code",
   "execution_count": 13,
   "id": "397374c8",
   "metadata": {},
   "outputs": [],
   "source": [
    "import matplotlib.pyplot as plt\n",
    "import numpy as np\n",
    "import statistics"
   ]
  },
  {
   "cell_type": "code",
   "execution_count": 2,
   "id": "fc98ca94",
   "metadata": {},
   "outputs": [],
   "source": [
    "# Get list of delays\n",
    "TTL_THRESHOLD = 1.0\n",
    "AUDIO_THRESHOLD = 0.001\n",
    "\n",
    "delays = []\n",
    "\n",
    "with open(\"timing_test.txt\") as f:\n",
    "    pending_pulse_index = None\n",
    "    \n",
    "    for i, line in enumerate(f):\n",
    "        ttl, audio = line.strip().split()\n",
    "        ttl = float(ttl)\n",
    "        audio = float(audio)\n",
    "    \n",
    "        if ttl > TTL_THRESHOLD and pending_pulse_index is None:\n",
    "            pending_pulse_index = i\n",
    "            \n",
    "        if audio > AUDIO_THRESHOLD and pending_pulse_index is not None:\n",
    "            delay = i - pending_pulse_index\n",
    "            delays.append(delay)\n",
    "            pending_pulse_index = None"
   ]
  },
  {
   "cell_type": "code",
   "execution_count": 18,
   "id": "15b92457",
   "metadata": {},
   "outputs": [
    {
     "name": "stdout",
     "output_type": "stream",
     "text": [
      "samples:  129\n",
      "mean:  0.001108062015503876\n",
      "sd:  0.00012518784335561903\n"
     ]
    },
    {
     "data": {
      "text/plain": [
       "(array([27., 46., 39.,  4.,  1.,  0.,  3.,  1.,  1.,  7.]),\n",
       " array([0.00098 , 0.001036, 0.001092, 0.001148, 0.001204, 0.00126 ,\n",
       "        0.001316, 0.001372, 0.001428, 0.001484, 0.00154 ]),\n",
       " <BarContainer object of 10 artists>)"
      ]
     },
     "execution_count": 18,
     "metadata": {},
     "output_type": "execute_result"
    },
    {
     "data": {
      "image/png": "[encoded data removed]",
      "text/plain": [
       "<Figure size 432x288 with 1 Axes>"
      ]
     },
     "metadata": {
      "needs_background": "light"
     },
     "output_type": "display_data"
    }
   ],
   "source": [
    "# Calculate average delay in secs\n",
    "fs = 50000\n",
    "delays_sec = np.asarray(delays)/fs\n",
    "print(\"samples: \", len(delays_sec))\n",
    "print(\"mean: \", statistics.mean(delays_sec))\n",
    "print(\"sd: \", statistics.stdev(delays_sec))\n",
    "\n",
    "# Plot histogram of delays\n",
    "plt.hist(delays_sec)"
   ]
  },
  {
   "cell_type": "code",
   "execution_count": 17,
   "id": "b9cfc531",
   "metadata": {},
   "outputs": [
    {
     "data": {
      "text/plain": [
       "[<matplotlib.lines.Line2D at 0x7fcfa4bcf2b0>]"
      ]
     },
     "execution_count": 17,
     "metadata": {},
     "output_type": "execute_result"
    },
    {
     "data": {
      "image/png": "[encoded data removed]",
      "text/plain": [
       "<Figure size 432x288 with 1 Axes>"
      ]
     },
     "metadata": {
      "needs_background": "light"
     },
     "output_type": "display_data"
    }
   ],
   "source": [
    "# Plot sample of TTL pulses\n",
    "indexes = [];\n",
    "ttls = []\n",
    "audios = []\n",
    "with open(\"/Users/letitiaho/Downloads/timing_test.txt\") as f:\n",
    "    pending_pulse_index = None\n",
    "    \n",
    "    for i, line in enumerate(f):\n",
    "        if i < 1240000 or i > 1350000:\n",
    "            continue\n",
    "            \n",
    "        ttl, audio = line.strip().split()\n",
    "        indexes.append(i)\n",
    "        ttls.append(float(ttl))\n",
    "        audios.append(float(audio))\n",
    "        \n",
    "plt.plot(indexes, ttls)\n",
    "plt.plot(indexes, audios)"
   ]
  }
 ],
 "metadata": {
  "kernelspec": {
   "display_name": "Python 3",
   "language": "python",
   "name": "python3"
  },
  "language_info": {
   "codemirror_mode": {
    "name": "ipython",
    "version": 3
   },
   "file_extension": ".py",
   "mimetype": "text/x-python",
   "name": "python",
   "nbconvert_exporter": "python",
   "pygments_lexer": "ipython3",
   "version": "3.9.5"
  }
 },
 "nbformat": 4,
 "nbformat_minor": 5
}
